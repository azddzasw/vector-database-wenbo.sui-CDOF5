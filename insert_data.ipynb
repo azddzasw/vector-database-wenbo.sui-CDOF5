{
 "cells": [
  {
   "cell_type": "code",
   "execution_count": 10,
   "id": "617e2746-48bb-4c42-8f58-773b6a6537b0",
   "metadata": {},
   "outputs": [],
   "source": [
    "from langchain import LLMChain\n",
    "from langchain.document_loaders import DirectoryLoader,PyPDFLoader,JSONLoader,TextLoader\n",
    "from langchain.document_loaders import Docx2txtLoader,UnstructuredHTMLLoader,CSVLoader\n",
    "from langchain.text_splitter import CharacterTextSplitter\n",
    "from langchain.chains.mapreduce import MapReduceChain\n",
    "from langchain.prompts import PromptTemplate\n",
    "from langchain.llms.base import LLM\n",
    "from langchain.vectorstores import Qdrant\n",
    "from langchain.embeddings import HuggingFaceEmbeddings\n",
    "from transformers import AutoTokenizer, AutoModel, AutoConfig\n",
    "from typing import Any, Dict, List, Mapping, Optional, Tuple, Union\n",
    "import torch\n",
    "import re\n",
    "import glob\n",
    "import os"
   ]
  },
  {
   "cell_type": "code",
   "execution_count": 2,
   "id": "56db665a-fd6f-4bd9-8401-3585d22389af",
   "metadata": {},
   "outputs": [],
   "source": [
    "def cut_sent(para):\n",
    "    para = re.sub('([。！？\\?])([^”’])', r\"\\1\\n\\2\", para)  # 单字符断句符\n",
    "    para = re.sub('(\\.{6})([^”’])', r\"\\1\\n\\2\", para)  # 英文省略号\n",
    "    para = re.sub('(\\…{2})([^”’])', r\"\\1\\n\\2\", para)  # 中文省略号\n",
    "    para = re.sub('([。！？\\?][”’])([^，。！？\\?])', r'\\1\\n\\2', para)\n",
    "    # 如果双引号前有终止符，那么双引号才是句子的终点，把分句符\\n放到双引号后，注意前面的几句都小心保留了双引号\n",
    "    para = para.rstrip()  # 段尾如果有多余的\\n就去掉它\n",
    "    # 很多规则中会考虑分号;，但是这里我把它忽略不计，破折号、英文双引号等同样忽略，需要的再做些简单调整即可。\n",
    "    return len(para.split(\"\\n\"))\n"
   ]
  },
  {
   "cell_type": "code",
   "execution_count": 4,
   "id": "47b75312-996b-477b-b3f9-778c334ef971",
   "metadata": {},
   "outputs": [
    {
     "data": {
      "text/plain": [
       "2"
      ]
     },
     "execution_count": 4,
     "metadata": {},
     "output_type": "execute_result"
    }
   ],
   "source": [
    "cut_sent('LangChain是由Harrison Chase创建的Python库，提供了开箱即用的支持，用于使用LLM（Large Language Models）构建自然语言处理应用程序。您可以连接到各种数据和计算源，并构建在特定领域数据源、私有存储库等上执行自然语言处理任务的应用程序。')"
   ]
  },
  {
   "cell_type": "code",
   "execution_count": 5,
   "id": "fc2969ac-3069-4941-bc48-dbe02ec78be0",
   "metadata": {},
   "outputs": [],
   "source": [
    "def data_loader(file):\n",
    "    loader = None\n",
    "    if os.path.splitext(file)[-1]=='.pdf':\n",
    "        loader = PyPDFLoader(file)\n",
    "    elif os.path.splitext(file)[-1] in ['.oc','.docx']:\n",
    "        loader = Docx2txtLoader(file)\n",
    "    elif os.path.splitext(file)[-1]=='.html':\n",
    "         loader = UnstructuredHTMLLoader(file)\n",
    "    elif os.path.splitext(file)[-1]=='.json':\n",
    "         loader = JSONLoader(file)\n",
    "    elif os.path.splitext(file)[-1]=='.csv':\n",
    "         loader = CSVLoader(file)\n",
    "    elif os.path.splitext(file)[-1] in ['.txt','.data','.dat']:\n",
    "         loader = TextLoader(file)  \n",
    "    return loader"
   ]
  },
  {
   "cell_type": "code",
   "execution_count": 17,
   "id": "1caf96b6-f40e-4aa3-9996-d989b31463bb",
   "metadata": {},
   "outputs": [],
   "source": [
    "def data_import(data_path):\n",
    "    # 加载文件夹中的所有txt类型的文件\n",
    "    file_list = glob.glob(os.path.join(data_path,'*'))\n",
    "\n",
    "    # 初始化加载器\n",
    "    text_splitter = CharacterTextSplitter(        \n",
    "        separator = \"\\n\",\n",
    "        chunk_size = 10,\n",
    "        chunk_overlap  = 1,\n",
    "        length_function = cut_sent,\n",
    "        )\n",
    "    \n",
    "    ## 加载向量化模型\n",
    "    embeddings = HuggingFaceEmbeddings(model_name='/root/ChatBot/QA/text2vec_cmed')\n",
    "    \n",
    "    for file in file_list:\n",
    "        try:\n",
    "            loader = data_loader(file)\n",
    "            documents = loader.load()\n",
    "        except:\n",
    "            print('文件%s读取失败' % file)\n",
    "            continue\n",
    "        # 切割加载的 document\n",
    "        split_docs = text_splitter.split_documents(documents)\n",
    "\n",
    "        # 将 document 通过 embeddings 对象计算 embedding 向量信息并临时存入 Qdrant 向量数据库，用于后续匹配查询\n",
    "        vqdrant = Qdrant.from_documents(\n",
    "        split_docs, embeddings, \n",
    "        path=\"./tmp/local_qdrant\",\n",
    "        collection_name=\"my_documents\")\n"
   ]
  },
  {
   "cell_type": "code",
   "execution_count": 11,
   "id": "980dbab4-cc11-4cab-acc7-6af2003627bb",
   "metadata": {},
   "outputs": [],
   "source": [
    "data_path = 'data'\n",
    "file_list = glob.glob(os.path.join(data_path,'*'))"
   ]
  },
  {
   "cell_type": "code",
   "execution_count": 12,
   "id": "e67fcea3-dfba-4f70-8404-3d48dceb7013",
   "metadata": {},
   "outputs": [
    {
     "data": {
      "text/plain": [
       "['data/附件2 中山大学关于印发《中山大学高校基本科研业务费管理实施细则》通知.pdf']"
      ]
     },
     "execution_count": 12,
     "metadata": {},
     "output_type": "execute_result"
    }
   ],
   "source": [
    "file_list"
   ]
  },
  {
   "cell_type": "code",
   "execution_count": 13,
   "id": "2aab0123-3127-4b0c-95c7-138b5f69d111",
   "metadata": {
    "collapsed": true,
    "jupyter": {
     "outputs_hidden": true
    },
    "tags": []
   },
   "outputs": [
    {
     "data": {
      "text/plain": [
       "[Document(page_content='中山大学高校基本科研业务费管理实施细\\n则 \\n（2021第4次校党委常委会议通过，根据 2021第18次\\n校党委常委会议 决定修正）  \\n \\n第一章   总则  \\n第一条  为进一步加强学校高校基本科研业务费管理，\\n提高资金使用效益，根据《中央高校基本科研业务费管理办\\n法》 （财教 〔2016〕277号）以及国家科研项目资金管理改革\\n和赋予基层单位科研管理自主权等相关改革精神和文件要\\n求，结合学校实际，制定本细则。  \\n第二条  学校高校基本科研业务费按照 “统筹规划与自\\n主安排相结合、公开遴选、按需分配、择优支持 ”的原则，重\\n点支持各学院（直属系）、附属医院及科研机构（以下简称\\n二级单位） 的中青年教师提升基本科研能力、 建设科研团队、\\n开展关键核心技术创新与前沿新兴交叉学科研究。  \\n第三条  学校从每年高校基本科研业务费总量中安排\\n20%作为绩效奖励经费，以业绩成果为导向，激励 中青年教\\n师发展。  \\n第四条  科学研究院统筹学校高 校基本科研业务费管\\n理工作，负责组织项目评审、预算编制、预算执行和绩效考\\n评工作等。发展规划办公室负责按财政与教育主管部门要求\\n组织项目资金预算申报，监督检查项目的预算执行与资金使\\n用效益等。财务处负责财务管理、会计核算、提供财务数据\\n及财务报表审核等。人力资源管理处负责绩效奖励发放等。  ', metadata={'source': 'data/附件2 中山大学关于印发《中山大学高校基本科研业务费管理实施细则》通知.pdf', 'page': 0}),\n",
       " Document(page_content='各二级单位负责具体项目的组织实施与管理，为项目\\n的执行提供条件保障，承担监管责任等。  \\n项目负责人是项目实施和资金使用的直接责任人，负责\\n按申请书或任务书要求组织开展研究，依法、据实编制项目\\n预算和决算，按预算规范、及时和高效使用经费，接受上级\\n和学校相关部门的监督检查，并对任务执行进度、质量及经\\n费使用的合法性、合规性、合理性、真实性和有效性承担行\\n政、经济和法律责任。  \\n第五条  本细则适用于学校所有 受高校基本科研业务\\n费资助的二级单位、团队及个人。  \\n \\n第二章   项目管理  \\n第六条  高校基本科研业务费重点支持以下项目类别：  \\n（一）青年教师项目：重点资助 40周岁（含）以下 有潜\\n力的青年教师自主选题独立开展的科学研究；鼓励青年教师\\n以研究群体的形式围绕某一重要研究方向开展研究；鼓励优\\n秀实验技术人员围绕大型仪器设备操作使用、先进分析测试\\n方法等开展研究，资助期一般为三年。  \\n（二）研究生项目：重点资助在校优秀研究生在导师\\n指导下参与国家重大重点科研任务，着重培养学生创新意\\n识和科研能力，资助期一般为一年。  \\n（三）重点项目：以 “三个面向 ”为指导思想，以培育重\\n大科研任务、优秀中青年创新团队、杰出领军人才为重\\n点，支持 开展多学科交叉的基础性、支撑性和战略性研\\n究，资助期一般为两年，可视评估考核结论滚动支持 。临', metadata={'source': 'data/附件2 中山大学关于印发《中山大学高校基本科研业务费管理实施细则》通知.pdf', 'page': 1}),\n",
       " Document(page_content='床医学研究项目（以下简称 5010计划项目）重点支持 临床\\n医学工作者在附属医院培育 基础上，针对亟需解决的临床\\n问题开展具 有先进性、前瞻 性的随机对照试验研究。  \\n（四）平台专项：对上级主管部门批复建设的前沿科学\\n中心、集成攻关大平台等科研平台进行专项支持，支持其积\\n极承担国家重大科技任务。  \\n第七条  科学研究院 每年下半年统筹组织开展下一年\\n度的项目库建设；次年根据可使用预算额度、专家评审排序\\n等确定拟资助项目并予以公示，经分管科研校领导审批立项，\\n并下达项目资金。具体如下：  \\n（一）青年教师项目由二级单位根据经费数自行组织申\\n报与遴选，确定排序，经科学研究院审核后纳入项目库。  \\n（二）研究生项目由二级单位根据经费数遴选具体人选，\\n经科学研究院审核后纳入项目库。  \\n（三）重点项目采取学校定向委托与自由申报相结合的\\n方式，经二级单位审核，学校组织评审或论证后，择优纳入\\n项目库。  \\n（四）平台专项按上级主管部门批复与规定启动。受资\\n助单位可根据上级主管部门和学校的规定自行制定使用方\\n案，报科学研究院备案。  \\n第八条  项目审批立项前， 有下列情形之一者，一经核\\n实，科学研究院将不予受理申报或不予资助：  \\n（一）项目负责人有违反师德、学术不端行为和近 3年\\n内有行政处罚记录或在处分有效期内 。 \\n（二）尚有牵头负责的、高校基本科研业务费或学校各', metadata={'source': 'data/附件2 中山大学关于印发《中山大学高校基本科研业务费管理实施细则》通知.pdf', 'page': 2}),\n",
       " Document(page_content='类资金支持的在研科研项目 。 \\n（三）所申报研究内容已获得其他各类科研计划资助 。 \\n（四）存在无正当理由未按期完成或被终止、撤销所承\\n担的科研项目（包括学校各类资金既往支持项目） 。 \\n（五）违背科研伦理、生物安全、信息安全、人类遗传\\n资源管理、干细胞临床研究、新一代人工智能等管理要求和\\n其他法律法规的项目。  \\n第九条  高校基本科研业务费支持的项目，原则上同一\\n负责人同一时期只能牵头负责一个项目 。青年教师项目和研\\n究生项目不重复资助。  \\n第十条  项目负责人应按照项目申请书或任务书约定\\n内容开展研究工作， 每年 12月底前提交年度报告， 青年教师\\n项目、研究生项目由二级单位负责年度考核后报科学研究院\\n备案；重点项目、平台专项经二级单位审核后由学校组织年\\n度评估，并根据年度评估情况动态调整。  \\n第十一条  项目负责人可在不改变研究方向、不降低结\\n题验收指标的前提下自主调整研究方案和技术路线， 但 5010\\n计划项目研究方案变更需经二级单位临床研究中心及伦理\\n委员会审核通过后报科学研究院审批。  \\n各类项目实施过程中，涉及团队核心成员变更、项目\\n延期、项目终止的，需经二级单位审核通 过后报科学研究\\n院审批。  \\n第十二条  项目实施中， 发生下列情况之一， 一经核实，\\n科学研究院可视情况撤销、 终止项目， 停拨、 收回剩余经费：  \\n（一）存在违法违纪、违反师德、学术不端等行为 。 ', metadata={'source': 'data/附件2 中山大学关于印发《中山大学高校基本科研业务费管理实施细则》通知.pdf', 'page': 3}),\n",
       " Document(page_content='（二）项目负责人在项目结题前离职 。 \\n（三）项目负责人出国半年以上未向科学研究院报备\\n或出国逾期不归导致研究工作无法开展 。 \\n（四）未通过年度评估 。 \\n（五）未通过结题验收 。 \\n（六）因其他不可抗力致使研究工作不能正常进行。  \\n第十三条  项目负责人应在项目完成时间前 1个月内提\\n出结题申请。青年教师项目、研究生项目由二级单位负责组\\n织结题验收后报 科学研究院备案；重点项目、平台专项经二\\n级单位审核后由学校组织结题验收。  \\n \\n第三章   经费管理  \\n第十四条  高校基本科研业务费纳入学校部门预算统\\n一核算，立项管理，专款专用。高校基本科研业务费按预算\\n年度分年度下拨项目经费， 对于购置设备单价超出年度预算\\n的，可在项目批复后单独提出，提前下达预算。 项目年度拨\\n款须在当年指定期限内执行完毕，逾期未支出部分收回学校\\n统筹安排， 次年不予回拨。 附属医院应对承担的 5010计划项\\n目按学校批复经费进行 1:1资金配套，配套经费单独预算、\\n独立核算、专款专用。  \\n第十五条  高校基本科研业务费仅用于 购置 40万元以\\n下的仪器设备 等科学研究直接支出，主要包括设备费、 科研\\n业务费（含材料费、差旅费 /会议费 /国际合作与交流费、出版\\n/文献 /信息传播 /知识产权事务费及符合规定的其他支出）、\\n劳务费、专家咨询费、 测试化验加工费、数据采 集费等。各', metadata={'source': 'data/附件2 中山大学关于印发《中山大学高校基本科研业务费管理实施细则》通知.pdf', 'page': 4}),\n",
       " Document(page_content='项支出应符合科研活动规律和实际情况，据实列支，不得虚\\n构，项目经费不得开支有工资性收入的人员工资、奖金、津\\n补贴和福利支出等国家规定不得列支的其他支出。  \\n第十六条  高校基本科研业务费的资金支付执行国库\\n集中支付制度。发生的会议费、国内差旅费、小额材料费和\\n测试化验 加工费等实行 “公务卡 ”结算。劳务费、专家咨询费\\n等支出，原则上应当通过银行转账方式结算，从严控制现金\\n支付。支出中属政府采购范围的，应按照《中华人民共和国\\n政府采购法》及政府采购的有关规定执行。  \\n第十七条  除重点项目与平台专项 外，劳务费、专家咨\\n询费、测试化验加工费、数据采集费预算不得调增。所有类\\n别项目设备费预算不得调减，其余预算科目在预算总额内，\\n由项目负责人自行调剂使用并在年底前报科学研究院备案。  \\n重点项目与平台专项的劳务费、专家咨询费、测试化\\n验加工费、数据采集费预算每年可进行 1次调增，项目执\\n行期内上述单个预算 科目累计预算调增不得超过项目总经\\n费的 10%，由学院审批后报科学研究院备案。  \\n \\n第四章   成果和资产管理  \\n第十八条  项目的研究成果，包括论文、著作、研究报\\n告、工具书、电脑软件、技术文件、专利、成果报道等，应\\n注明 “中山大学中央高校基本科研业务费专项资金资助 （the \\nFundamental Research Funds for the Central Universities, Sun \\nYat-sen University ）”及项目编号 。 \\n第十九条  使用高校基本科研业务费形成的资产属于', metadata={'source': 'data/附件2 中山大学关于印发《中山大学高校基本科研业务费管理实施细则》通知.pdf', 'page': 5}),\n",
       " Document(page_content='国有资产，须纳入学校资产统一管理，并按照国家和学校国\\n有资产管理有关规定程序进行购置、使用和处置。  \\n \\n第五章   绩效评价和责任追究  \\n第二十条  高校基本科研业务费实行全过程预算绩效\\n管理，科学研究院、发展规划办公室、财务处对高校基本科\\n研业务费项目进展、产出、预算执行和资金使用等情况进行\\n监测，实施绩效管理监控。每年按财政部、教育部的要求开\\n展年度绩效自评，形成自评报告，并及时报送教育部。科学\\n研究院对预算执行进度缓慢或实施效果较差的项目及其二\\n级单位，可采取调整和扣减当年预算、暂停或核减以后年度\\n预算等措施。  \\n第二十一条  项目成员不得有如下行为：  \\n（一）经费执行进度拖延 。 \\n（二）项目执行进度拖延 。 \\n（三）违反相关保密规定 。 \\n（四）违背科研诚信要求 。 \\n（五）违背科研伦理、生物安全、信息安全、人类遗\\n传资源管理、干细胞临床研究、新一代人工智能等管理要\\n求和其他法律法规 。 \\n（六）  违反项目管理规定及学校管理制度。  \\n第二十二条  各单位及相关工作人员不履行或怠于履\\n行本细则规定的职责、项目成员违反本细则相关规定或有第\\n二十一条规定的行为之一的，学校可采取以下措施：  \\n（一）批评教育 。 ', metadata={'source': 'data/附件2 中山大学关于印发《中山大学高校基本科研业务费管理实施细则》通知.pdf', 'page': 6}),\n",
       " Document(page_content='（二）在一定范围内通报批评 。 \\n（三）取消年度评先评优资格 。 \\n（四）调减年度奖励性绩效 。 \\n（五）在一定时间内限制申报和参与纵向科研项目。  \\n以上措施可以单独使用或者合并适用。构成违纪的，\\n由学校纪委办公室、监察处依照有关党纪法规和学校规定\\n作出处理；涉及领导责任的，按照有关党纪法规和学校规\\n定进行问责；涉嫌犯罪的，移送国家有关机关处理。  \\n \\n第六章   附则  \\n第二十三条  本细则由科学研究院负责解释。科学研究\\n院对本细则的落实执行负有主体责任，如本细则执行不力，\\n追究科学研究院及主要负责人相应责任。  \\n第二十四条  本细则实施过程中，国家关于高校基本科\\n研业务费的使用规定如发生变更，与本细则不一致的，从其\\n规定。  \\n第二十五条  本细则自发布之日起施行，原《 中山大学\\n高校基本科研业务费管理实施细则 》（中大 科研〔2020〕20\\n号）同时废止。  \\n \\n \\n ', metadata={'source': 'data/附件2 中山大学关于印发《中山大学高校基本科研业务费管理实施细则》通知.pdf', 'page': 7})]"
      ]
     },
     "execution_count": 13,
     "metadata": {},
     "output_type": "execute_result"
    }
   ],
   "source": [
    "loader = data_loader(file_list[0])\n",
    "documents = loader.load()\n",
    "documents"
   ]
  },
  {
   "cell_type": "code",
   "execution_count": 18,
   "id": "e6b67e72-f004-4eb0-999c-d4f4a15189cd",
   "metadata": {},
   "outputs": [],
   "source": [
    "text_splitter = CharacterTextSplitter(        \n",
    "        separator = \"\\n\",\n",
    "        chunk_size = 10,\n",
    "        chunk_overlap  = 1,\n",
    "        length_function = cut_sent,\n",
    "        )"
   ]
  },
  {
   "cell_type": "code",
   "execution_count": 19,
   "id": "e8b94d09-996e-4655-b5ff-9761c4017f79",
   "metadata": {},
   "outputs": [
    {
     "data": {
      "text/plain": [
       "[Document(page_content='中山大学高校基本科研业务费管理实施细\\n则 \\n（2021第4次校党委常委会议通过，根据 2021第18次\\n校党委常委会议 决定修正）', metadata={'source': 'data/附件2 中山大学关于印发《中山大学高校基本科研业务费管理实施细则》通知.pdf', 'page': 0}),\n",
       " Document(page_content='第一章   总则  \\n第一条  为进一步加强学校高校基本科研业务费管理，\\n提高资金使用效益，根据《中央高校基本科研业务费管理办\\n法》 （财教 〔2016〕277号）以及国家科研项目资金管理改革', metadata={'source': 'data/附件2 中山大学关于印发《中山大学高校基本科研业务费管理实施细则》通知.pdf', 'page': 0}),\n",
       " Document(page_content='法》 （财教 〔2016〕277号）以及国家科研项目资金管理改革\\n和赋予基层单位科研管理自主权等相关改革精神和文件要\\n求，结合学校实际，制定本细则。  \\n第二条  学校高校基本科研业务费按照 “统筹规划与自\\n主安排相结合、公开遴选、按需分配、择优支持 ”的原则，重', metadata={'source': 'data/附件2 中山大学关于印发《中山大学高校基本科研业务费管理实施细则》通知.pdf', 'page': 0}),\n",
       " Document(page_content='主安排相结合、公开遴选、按需分配、择优支持 ”的原则，重\\n点支持各学院（直属系）、附属医院及科研机构（以下简称\\n二级单位） 的中青年教师提升基本科研能力、 建设科研团队、\\n开展关键核心技术创新与前沿新兴交叉学科研究。  \\n第三条  学校从每年高校基本科研业务费总量中安排', metadata={'source': 'data/附件2 中山大学关于印发《中山大学高校基本科研业务费管理实施细则》通知.pdf', 'page': 0}),\n",
       " Document(page_content='第三条  学校从每年高校基本科研业务费总量中安排\\n20%作为绩效奖励经费，以业绩成果为导向，激励 中青年教\\n师发展。  \\n第四条  科学研究院统筹学校高 校基本科研业务费管\\n理工作，负责组织项目评审、预算编制、预算执行和绩效考', metadata={'source': 'data/附件2 中山大学关于印发《中山大学高校基本科研业务费管理实施细则》通知.pdf', 'page': 0}),\n",
       " Document(page_content='理工作，负责组织项目评审、预算编制、预算执行和绩效考\\n评工作等。发展规划办公室负责按财政与教育主管部门要求\\n组织项目资金预算申报，监督检查项目的预算执行与资金使\\n用效益等。财务处负责财务管理、会计核算、提供财务数据', metadata={'source': 'data/附件2 中山大学关于印发《中山大学高校基本科研业务费管理实施细则》通知.pdf', 'page': 0}),\n",
       " Document(page_content='及财务报表审核等。人力资源管理处负责绩效奖励发放等。', metadata={'source': 'data/附件2 中山大学关于印发《中山大学高校基本科研业务费管理实施细则》通知.pdf', 'page': 0}),\n",
       " Document(page_content='各二级单位负责具体项目的组织实施与管理，为项目\\n的执行提供条件保障，承担监管责任等。  \\n项目负责人是项目实施和资金使用的直接责任人，负责\\n按申请书或任务书要求组织开展研究，依法、据实编制项目\\n预算和决算，按预算规范、及时和高效使用经费，接受上级', metadata={'source': 'data/附件2 中山大学关于印发《中山大学高校基本科研业务费管理实施细则》通知.pdf', 'page': 1}),\n",
       " Document(page_content='预算和决算，按预算规范、及时和高效使用经费，接受上级\\n和学校相关部门的监督检查，并对任务执行进度、质量及经\\n费使用的合法性、合规性、合理性、真实性和有效性承担行\\n政、经济和法律责任。  \\n第五条  本细则适用于学校所有 受高校基本科研业务', metadata={'source': 'data/附件2 中山大学关于印发《中山大学高校基本科研业务费管理实施细则》通知.pdf', 'page': 1}),\n",
       " Document(page_content='第五条  本细则适用于学校所有 受高校基本科研业务\\n费资助的二级单位、团队及个人。  \\n \\n第二章   项目管理  \\n第六条  高校基本科研业务费重点支持以下项目类别：', metadata={'source': 'data/附件2 中山大学关于印发《中山大学高校基本科研业务费管理实施细则》通知.pdf', 'page': 1})]"
      ]
     },
     "execution_count": 19,
     "metadata": {},
     "output_type": "execute_result"
    }
   ],
   "source": [
    "split_docs = text_splitter.split_documents(documents)\n",
    "split_docs[:10]"
   ]
  },
  {
   "cell_type": "code",
   "execution_count": 57,
   "id": "4049d4b1-3287-4fcb-a314-c53206443728",
   "metadata": {},
   "outputs": [],
   "source": [
    "data_import(data_path)"
   ]
  }
 ],
 "metadata": {
  "kernelspec": {
   "display_name": "Python 3 (ipykernel)",
   "language": "python",
   "name": "python3"
  },
  "language_info": {
   "codemirror_mode": {
    "name": "ipython",
    "version": 3
   },
   "file_extension": ".py",
   "mimetype": "text/x-python",
   "name": "python",
   "nbconvert_exporter": "python",
   "pygments_lexer": "ipython3",
   "version": "3.8.10"
  }
 },
 "nbformat": 4,
 "nbformat_minor": 5
}
